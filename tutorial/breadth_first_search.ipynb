{
  "nbformat": 4,
  "nbformat_minor": 0,
  "metadata": {
    "colab": {
      "name": "breadth_first_search.ipynb",
      "provenance": [],
      "collapsed_sections": []
    },
    "kernelspec": {
      "name": "python3",
      "display_name": "Python 3"
    }
  },
  "cells": [
    {
      "cell_type": "code",
      "metadata": {
        "id": "-e7kS5PY96DA",
        "colab": {
          "base_uri": "https://localhost:8080/"
        },
        "outputId": "e28f5148-5be7-4028-a43d-6a4de5c2cfab"
      },
      "source": [
        "# Driver Code \n",
        "if __name__ == \"__main__\": \n",
        "\t\n",
        "\t# Graph using dictionaries \n",
        "\tgraph = {'A': ['B', 'C', 'D', 'E'],\n",
        "         'B': ['F','G'],\n",
        "         'C': ['H'],\n",
        "         'D': ['I','J'],\n",
        "         'E': [],\n",
        "         'F': [],\n",
        "         'G': ['K','L'],\n",
        "         'H': [],\n",
        "         'I': ['M'],\n",
        "         'J': ['N'],\n",
        "         'K': [],\n",
        "         'L': ['O'],\n",
        "         'M': [],\n",
        "         'N': [],\n",
        "         'O': []\n",
        "         \n",
        "         \n",
        "         }\n",
        "\n",
        "visited = [] # List to keep track of visited nodes.\n",
        "queue = []   #Initialize a queue\n",
        "\n",
        "def bfs(visited, graph, node):\n",
        "  visited.append(node)\n",
        "  queue.append(node)\n",
        "\n",
        "  while queue:\n",
        "    s = queue.pop(0) \n",
        "    print (s, end = \" \") \n",
        "    \n",
        "    for neighbour in graph[s]:\n",
        "      \n",
        "      if neighbour not in visited:                \n",
        "        queue.append(neighbour)\n",
        "        visited.append(neighbour)\n",
        "    \n",
        "print (\"Following is Breadth First Search Traversal:\") \n",
        "bfs(visited, graph, 'A')      \n",
        "\n",
        "# finds shortest path between 2 nodes of a graph using BFS\n",
        "def bfs_shortest_path(graph, start, goal):\n",
        "    # keep track of explored nodes\n",
        "    explored = []\n",
        "    # keep track of all the paths to be checked\n",
        "    queue = [[start]]\n",
        " \n",
        "    # return path if start is goal\n",
        "    if start == goal:\n",
        "        return \"Same Node\"\n",
        " \n",
        "    # keeps looping until all possible paths have been checked\n",
        "    while queue:\n",
        "        # pop the first path from the queue\n",
        "        path = queue.pop(0)\n",
        "        # get the last node from the path\n",
        "        node = path[-1]\n",
        "        \n",
        "        if node not in explored:\n",
        "            neighbours = graph[node]\n",
        "            \n",
        "            # go through all neighbour nodes, construct a new path and\n",
        "            # push it into the queue\n",
        "            for neighbour in neighbours:\n",
        "                new_path = list(path)\n",
        "                new_path.append(neighbour)\n",
        "                queue.append(new_path)\n",
        "                \n",
        "                # return path if neighbour is goal\n",
        "                if neighbour == goal:\n",
        "                    print (\"\\nFollowing is Breadth First Search Shortest Path:\", *new_path)                 \n",
        "                    return \n",
        "          \n",
        " \n",
        "            # mark node as explored\n",
        "            explored.append(node)\n",
        "    # in case there's no path between the 2 nodes\n",
        "    return \"So sorry, but a connecting path doesn't exist :(\"\n",
        "     \n",
        "\n",
        "\t# Function Call \n",
        "bfs_shortest_path(graph, 'A', 'O') \n",
        "\n",
        " "
      ],
      "execution_count": null,
      "outputs": [
        {
          "output_type": "stream",
          "text": [
            "Following is Breadth First Search Traversal:\n",
            "A B C D E F G H I J K L M N O \n",
            "Following is Breadth First Search Shortest Path: A B G L O\n"
          ],
          "name": "stdout"
        }
      ]
    }
  ]
}