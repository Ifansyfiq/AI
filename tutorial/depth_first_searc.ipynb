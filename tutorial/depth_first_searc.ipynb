{
  "nbformat": 4,
  "nbformat_minor": 0,
  "metadata": {
    "colab": {
      "name": "depth_first_search.ipynb",
      "provenance": [],
      "collapsed_sections": []
    },
    "kernelspec": {
      "name": "python3",
      "display_name": "Python 3"
    }
  },
  "cells": [
    {
      "cell_type": "code",
      "metadata": {
        "id": "aawJMazVcb8h",
        "colab": {
          "base_uri": "https://localhost:8080/"
        },
        "outputId": "e85cdc5c-85c4-4000-908a-12a1421a1be1"
      },
      "source": [
        "if __name__ == \"__main__\": \n",
        "\t\n",
        "\t# Graph using dictionaries \n",
        "\tgraph = {'A': ['B', 'C', 'D', 'E'],\n",
        "         'B': ['F','G'],\n",
        "         'C': ['H'],\n",
        "         'D': ['I','J'],\n",
        "         'E': [],\n",
        "         'F': [],\n",
        "         'G': ['K','L'],\n",
        "         'H': [],\n",
        "         'I': ['M'],\n",
        "         'J': ['N'],\n",
        "         'K': [],\n",
        "         'L': ['O'],\n",
        "         'M': [],\n",
        "         'N': [],\n",
        "         'O': []\n",
        "         \n",
        "         \n",
        "         }\n",
        "\n",
        "def dfs(graph, node):\n",
        "    visited = [node]\n",
        "    stack = [node]\n",
        "    while stack:\n",
        "        node = stack[-1]\n",
        "        if node not in visited:\n",
        "            visited.extend(node)\n",
        "            #print (\"\\nVisited node:\", *visited)\n",
        "        remove_from_stack = True\n",
        "        for next in graph[node]:\n",
        "            if next not in visited:\n",
        "                stack.extend(next)\n",
        "                remove_from_stack = False\n",
        "                break\n",
        "        if remove_from_stack:\n",
        "            stack.pop()\n",
        "    print (\"Following is Depth First Search Traversal:\", *visited) \n",
        "    return \n",
        "\n",
        "# finds shortest path between 2 nodes of a graph using BFS\n",
        "def dfs_shortest_path(graph, start, goal):\n",
        "    # keep track of explored nodes\n",
        "    explored = []\n",
        "    # keep track of all the paths to be checked\n",
        "    queue = [[start]]\n",
        " \n",
        "    # return path if start is goal\n",
        "    if start == goal:\n",
        "        return \"Same Node\"\n",
        " \n",
        "    # keeps looping until all possible paths have been checked\n",
        "    while queue:\n",
        "        # pop the first path from the queue\n",
        "        path = queue.pop(0)\n",
        "        # get the last node from the path\n",
        "        node = path[-1]\n",
        "        \n",
        "        if node not in explored:\n",
        "            neighbours = graph[node]\n",
        "            \n",
        "            # go through all neighbour nodes, construct a new path and\n",
        "            # push it into the queue\n",
        "            for neighbour in neighbours:\n",
        "                new_path = list(path)\n",
        "                new_path.append(neighbour)\n",
        "                queue.append(new_path)\n",
        "                \n",
        "                # return path if neighbour is goal\n",
        "                if neighbour == goal:\n",
        "                    print (\"\\nFollowing is Depth First Search Shortest Path:\", *new_path)                 \n",
        "                    return \n",
        "          \n",
        " \n",
        "            # mark node as explored\n",
        "            explored.append(node)\n",
        "    # in case there's no path between the 2 nodes\n",
        "    return \"So sorry, but a connecting path doesn't exist :(\"\n",
        "     \n",
        "dfs(graph, 'A')\n",
        "\t# Function Call \n",
        "dfs_shortest_path(graph, 'A', 'O') "
      ],
      "execution_count": null,
      "outputs": [
        {
          "output_type": "stream",
          "text": [
            "Following is Depth First Search Traversal: A B F G K L O C H D I M J N E\n",
            "\n",
            "Following is Depth First Search Shortest Path: A B G L O\n"
          ],
          "name": "stdout"
        }
      ]
    }
  ]
}